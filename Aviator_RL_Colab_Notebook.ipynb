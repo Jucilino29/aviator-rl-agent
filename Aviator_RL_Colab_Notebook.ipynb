{
 "cells": [
  {
   "cell_type": "markdown",
   "id": "5aeb1525",
   "metadata": {},
   "source": [
    "# 🧠 Aviator RL Agent - Google Colab\n",
    "Simulação e treinamento de um agente PPO para o jogo Aviator usando Aprendizado por Reforço."
   ]
  },
  {
   "cell_type": "code",
   "execution_count": null,
   "id": "4ab2bc7e",
   "metadata": {},
   "outputs": [],
   "source": [
    "!pip install stable-baselines3 gym torch matplotlib\n"
   ]
  },
  {
   "cell_type": "markdown",
   "id": "9c42baf0",
   "metadata": {},
   "source": [
    "## 🕹️ Ambiente Aviator"
   ]
  },
  {
   "cell_type": "code",
   "execution_count": null,
   "id": "af791e54",
   "metadata": {},
   "outputs": [],
   "source": [
    "import numpy as np\n",
    "import gym\n",
    "from gym import spaces\n",
    "\n",
    "class AviatorGame:\n",
    "    def simulate_round(self):\n",
    "        crash_point = np.random.exponential(scale=1.5) + 1\n",
    "        return round(min(crash_point, 100), 2)\n",
    "\n",
    "    def play(self, cashout_multiplier):\n",
    "        crash_point = self.simulate_round()\n",
    "        win = cashout_multiplier <= crash_point\n",
    "        reward = cashout_multiplier if win else 0\n",
    "        return crash_point, win, reward\n",
    "\n",
    "class AviatorEnv(gym.Env):\n",
    "    def __init__(self):\n",
    "        super(AviatorEnv, self).__init__()\n",
    "        self.game = AviatorGame()\n",
    "        self.history_length = 10\n",
    "        self.action_space = spaces.Box(low=np.array([1.01]), high=np.array([5.0]), dtype=np.float32)\n",
    "        self.observation_space = spaces.Box(low=1.0, high=100.0, shape=(self.history_length,), dtype=np.float32)\n",
    "        self.history = np.ones(self.history_length)\n",
    "\n",
    "    def reset(self):\n",
    "        self.history = np.ones(self.history_length)\n",
    "        return self.history\n",
    "\n",
    "    def step(self, action):\n",
    "        action = float(action[0])\n",
    "        crash, win, reward = self.game.play(action)\n",
    "        self.history = np.roll(self.history, -1)\n",
    "        self.history[-1] = crash\n",
    "        done = False\n",
    "        return self.history, reward, done, {}\n"
   ]
  },
  {
   "cell_type": "markdown",
   "id": "ff692d63",
   "metadata": {},
   "source": [
    "## 🏋️‍♂️ Treinamento com PPO"
   ]
  },
  {
   "cell_type": "code",
   "execution_count": null,
   "id": "a76bc845",
   "metadata": {},
   "outputs": [],
   "source": [
    "from stable_baselines3 import PPO\n",
    "\n",
    "env = AviatorEnv()\n",
    "model = PPO(\"MlpPolicy\", env, verbose=1)\n",
    "model.learn(total_timesteps=100_000)\n"
   ]
  },
  {
   "cell_type": "markdown",
   "id": "0b3641f9",
   "metadata": {},
   "source": [
    "## 🎮 Simulação do Agente"
   ]
  },
  {
   "cell_type": "code",
   "execution_count": null,
   "id": "a60a4225",
   "metadata": {},
   "outputs": [],
   "source": [
    "import matplotlib.pyplot as plt\n",
    "\n",
    "obs = env.reset()\n",
    "actions, crashes, rewards = [], [], []\n",
    "\n",
    "for _ in range(100):\n",
    "    action, _ = model.predict(obs)\n",
    "    obs, reward, done, _ = env.step(action)\n",
    "    actions.append(float(action[0]))\n",
    "    crashes.append(obs[-1])\n",
    "    rewards.append(reward)\n",
    "\n",
    "plt.figure(figsize=(10, 5))\n",
    "plt.plot(actions, label=\"Cashout\")\n",
    "plt.plot(crashes, label=\"Crash\", linestyle='--')\n",
    "plt.legend()\n",
    "plt.title(\"Cashouts vs Crash Points\")\n",
    "plt.xlabel(\"Rodada\")\n",
    "plt.ylabel(\"Multiplicador\")\n",
    "plt.grid()\n",
    "plt.show()\n",
    "\n",
    "plt.figure()\n",
    "plt.plot(np.cumsum(rewards), color='green')\n",
    "plt.title(\"Lucro acumulado\")\n",
    "plt.xlabel(\"Rodada\")\n",
    "plt.ylabel(\"Recompensa\")\n",
    "plt.grid()\n",
    "plt.show()\n"
   ]
  }
 ],
 "metadata": {},
 "nbformat": 4,
 "nbformat_minor": 5
}